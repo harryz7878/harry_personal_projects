{
 "cells": [
  {
   "cell_type": "code",
   "execution_count": 2,
   "metadata": {},
   "outputs": [
    {
     "name": "stdout",
     "output_type": "stream",
     "text": [
      "2\n",
      "3\n"
     ]
    }
   ],
   "source": [
    "class ListNode:\n",
    "    def __init__(self, val):\n",
    "        self.val = val\n",
    "        self.next = None\n",
    "####\n",
    "a = ListNode(1)\n",
    "b = ListNode(2)\n",
    "c = ListNode(3)\n",
    "a.next=b\n",
    "b.next=c\n",
    "\n",
    "#####\n",
    "prev = a\n",
    "cur = b\n",
    "prev = cur # prev now at b\n",
    "cur = cur.next # cur now at c\n",
    "\n",
    "##\n",
    "print(prev.val)\n",
    "print(cur.val)\n"
   ]
  },
  {
   "cell_type": "markdown",
   "metadata": {},
   "source": [
    "When you assign one variable to another, like prev = cur, you are not creating a new object or copying the object itself. Instead, you are creating a new reference to the same object. After this line, both prev and cur refer to the same object (b in this case).\n",
    "\n",
    "However, when you subsequently modify cur with cur = cur.next, you are changing what cur refers to, not the object it was previously referring to. After this line, cur now refers to c, but prev still refers to b. *****The assignment cur = cur.next doesn't modify the object that prev is referencing; it only changes the reference held by cur.*****\n",
    "\n",
    "In summary, prev and cur are independent references. Changing one does not automatically change the other. They are initially made to point to the same object (b), but when cur is updated to point to a different object (c), prev continues to point to the original object (b).\n"
   ]
  },
  {
   "cell_type": "markdown",
   "metadata": {},
   "source": []
  },
  {
   "cell_type": "code",
   "execution_count": 3,
   "metadata": {},
   "outputs": [
    {
     "name": "stdout",
     "output_type": "stream",
     "text": [
      "[999, 2, 3]\n",
      "[999, 2, 3]\n"
     ]
    }
   ],
   "source": [
    "#this case changes both a and b\n",
    "obj = [1,2,3]\n",
    "a = obj\n",
    "b = obj\n",
    "\n",
    "obj[0] = 999\n",
    "print(a)\n",
    "print(b)"
   ]
  },
  {
   "cell_type": "markdown",
   "metadata": {},
   "source": [
    "Both a and b are references to the same list object in memory that obj is referring to. They are not independent copies of the list. Therefore, any changes made to the list via any of these references (obj, a, or b) will be reflected in all references, as they are all pointing to the same object."
   ]
  },
  {
   "cell_type": "markdown",
   "metadata": {},
   "source": []
  },
  {
   "cell_type": "markdown",
   "metadata": {},
   "source": [
    "In summary:\n",
    "\n",
    "In your first example with ListNode, you were dealing with independent references to different objects (prev and cur), and changing one reference did not affect the other.\n",
    "In this second example with a list, a and b are references to the same object (the list [1, 2, 3]), so changes to the object through one reference are visible through the other references."
   ]
  },
  {
   "cell_type": "markdown",
   "metadata": {},
   "source": []
  },
  {
   "cell_type": "code",
   "execution_count": null,
   "metadata": {},
   "outputs": [],
   "source": []
  },
  {
   "cell_type": "code",
   "execution_count": null,
   "metadata": {},
   "outputs": [],
   "source": []
  },
  {
   "cell_type": "code",
   "execution_count": null,
   "metadata": {},
   "outputs": [],
   "source": []
  },
  {
   "cell_type": "code",
   "execution_count": null,
   "metadata": {},
   "outputs": [],
   "source": []
  }
 ],
 "metadata": {
  "kernelspec": {
   "display_name": "harry_venv",
   "language": "python",
   "name": "python3"
  },
  "language_info": {
   "codemirror_mode": {
    "name": "ipython",
    "version": 3
   },
   "file_extension": ".py",
   "mimetype": "text/x-python",
   "name": "python",
   "nbconvert_exporter": "python",
   "pygments_lexer": "ipython3",
   "version": "3.12.1"
  }
 },
 "nbformat": 4,
 "nbformat_minor": 2
}
