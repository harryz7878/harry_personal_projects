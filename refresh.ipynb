{
 "cells": [
  {
   "cell_type": "code",
   "execution_count": 1,
   "metadata": {},
   "outputs": [],
   "source": [
    "from pynput.mouse import Button, Controller\n",
    "import time\n",
    "\n",
    "mouse = Controller()\n",
    "while True:\n",
    "    time.sleep(60*5)\n",
    "    mouse.move(5, -5)\n"
   ]
  },
  {
   "cell_type": "code",
   "execution_count": 23,
   "metadata": {},
   "outputs": [
    {
     "name": "stdout",
     "output_type": "stream",
     "text": [
      "1\n",
      "2\n",
      "3\n"
     ]
    }
   ],
   "source": [
    "a= set([1,2,3])\n",
    "while a:\n",
    "    t = a.pop()\n",
    "    print (t)"
   ]
  },
  {
   "cell_type": "code",
   "execution_count": 16,
   "metadata": {},
   "outputs": [],
   "source": [
    "a=[0]"
   ]
  },
  {
   "cell_type": "code",
   "execution_count": 7,
   "metadata": {},
   "outputs": [],
   "source": [
    "a = 6\n",
    "b= a\n",
    "a= a+1"
   ]
  },
  {
   "cell_type": "code",
   "execution_count": 3,
   "metadata": {},
   "outputs": [
    {
     "data": {
      "text/plain": [
       "'z'"
      ]
     },
     "execution_count": 3,
     "metadata": {},
     "output_type": "execute_result"
    }
   ],
   "source": [
    "chr(ord(\"a\")+25)"
   ]
  },
  {
   "cell_type": "code",
   "execution_count": 1,
   "metadata": {},
   "outputs": [
    {
     "ename": "NameError",
     "evalue": "name 'nums' is not defined",
     "output_type": "error",
     "traceback": [
      "\u001b[0;31m---------------------------------------------------------------------------\u001b[0m",
      "\u001b[0;31mNameError\u001b[0m                                 Traceback (most recent call last)",
      "\u001b[1;32m/Users/KZO02/Documents/GitHub/harry_code/refresh.ipynb Cell 4\u001b[0m line \u001b[0;36m2\n\u001b[1;32m      <a href='vscode-notebook-cell:/Users/KZO02/Documents/GitHub/harry_code/refresh.ipynb#W3sZmlsZQ%3D%3D?line=0'>1</a>\u001b[0m numbers \u001b[39m=\u001b[39m [\u001b[39m1\u001b[39m,\u001b[39m2\u001b[39m,\u001b[39m3\u001b[39m]\n\u001b[0;32m----> <a href='vscode-notebook-cell:/Users/KZO02/Documents/GitHub/harry_code/refresh.ipynb#W3sZmlsZQ%3D%3D?line=1'>2</a>\u001b[0m nums[\u001b[39m-\u001b[39m\u001b[39m1\u001b[39m]\n\u001b[1;32m      <a href='vscode-notebook-cell:/Users/KZO02/Documents/GitHub/harry_code/refresh.ipynb#W3sZmlsZQ%3D%3D?line=2'>3</a>\u001b[0m \u001b[39m# r = 3[0]\u001b[39;00m\n\u001b[1;32m      <a href='vscode-notebook-cell:/Users/KZO02/Documents/GitHub/harry_code/refresh.ipynb#W3sZmlsZQ%3D%3D?line=3'>4</a>\u001b[0m \n\u001b[1;32m      <a href='vscode-notebook-cell:/Users/KZO02/Documents/GitHub/harry_code/refresh.ipynb#W3sZmlsZQ%3D%3D?line=4'>5</a>\u001b[0m \n\u001b[1;32m      <a href='vscode-notebook-cell:/Users/KZO02/Documents/GitHub/harry_code/refresh.ipynb#W3sZmlsZQ%3D%3D?line=5'>6</a>\u001b[0m \u001b[39m# if (r+1<len(numbers) and numbers[r]==numbers[r+1]):\u001b[39;00m\n\u001b[1;32m      <a href='vscode-notebook-cell:/Users/KZO02/Documents/GitHub/harry_code/refresh.ipynb#W3sZmlsZQ%3D%3D?line=6'>7</a>\u001b[0m \u001b[39m#     print(666)\u001b[39;00m\n",
      "\u001b[0;31mNameError\u001b[0m: name 'nums' is not defined"
     ]
    }
   ],
   "source": [
    "numbers = [1,2,3]\n",
    "nums[-1]\n",
    "# r = 3[0]\n",
    "\n",
    "\n",
    "# if (r+1<len(numbers) and numbers[r]==numbers[r+1]):\n",
    "#     print(666)"
   ]
  },
  {
   "cell_type": "code",
   "execution_count": 6,
   "metadata": {},
   "outputs": [
    {
     "data": {
      "text/plain": [
       "'id'"
      ]
     },
     "execution_count": 6,
     "metadata": {},
     "output_type": "execute_result"
    }
   ],
   "source": [
    "s2 = \"eidbaooo\"\n",
    "\n",
    "s2[1:3]"
   ]
  },
  {
   "cell_type": "code",
   "execution_count": 9,
   "metadata": {},
   "outputs": [
    {
     "name": "stdout",
     "output_type": "stream",
     "text": [
      "eidbaooo\n",
      "------\n",
      "\n",
      "eidbaooo\n",
      "------\n",
      "\n",
      "eidbaooo\n",
      "------\n",
      "\n",
      "eidbaooo\n",
      "------\n",
      "\n",
      "eidbaooo\n",
      "------\n",
      "\n",
      "eidbaooo\n",
      "------\n",
      "\n",
      "eidbaooo\n",
      "------\n",
      "\n",
      "eidbaooo\n",
      "------\n",
      "\n"
     ]
    },
    {
     "data": {
      "text/plain": [
       "False"
      ]
     },
     "execution_count": 9,
     "metadata": {},
     "output_type": "execute_result"
    }
   ],
   "source": []
  },
  {
   "cell_type": "code",
   "execution_count": null,
   "metadata": {},
   "outputs": [
    {
     "name": "stdout",
     "output_type": "stream",
     "text": [
      "eidbaooo\n",
      "------\n",
      "\n",
      "eidbaooo\n",
      "------\n",
      "\n",
      "eidbaooo\n",
      "------\n",
      "\n",
      "eidbaooo\n",
      "------\n",
      "\n",
      "eidbaooo\n",
      "------\n",
      "\n",
      "eidbaooo\n",
      "------\n",
      "\n",
      "eidbaooo\n",
      "------\n",
      "\n",
      "eidbaooo\n",
      "------\n",
      "\n"
     ]
    },
    {
     "data": {
      "text/plain": [
       "False"
      ]
     },
     "metadata": {},
     "output_type": "display_data"
    }
   ],
   "source": []
  },
  {
   "cell_type": "code",
   "execution_count": 16,
   "metadata": {},
   "outputs": [
    {
     "name": "stdout",
     "output_type": "stream",
     "text": [
      "ei\n",
      "id\n",
      "db\n",
      "bo\n",
      "oa\n",
      "ao\n"
     ]
    }
   ],
   "source": [
    "s2= \"eidboaoo\"\n",
    "l = 0\n",
    "r = 2\n",
    "match = 0\n",
    "# print(len(s2))\n",
    "while r < len(s2):\n",
    "    temp = s2[l:r]\n",
    "    print(temp)\n",
    "    if match == 26:\n",
    "        # return True\n",
    "        pass\n",
    "\n",
    "    l += 1\n",
    "    r += 1\n",
    "\n",
    "\n",
    "\n"
   ]
  },
  {
   "cell_type": "code",
   "execution_count": null,
   "metadata": {},
   "outputs": [],
   "source": []
  },
  {
   "cell_type": "code",
   "execution_count": null,
   "metadata": {},
   "outputs": [],
   "source": []
  },
  {
   "cell_type": "code",
   "execution_count": null,
   "metadata": {},
   "outputs": [],
   "source": []
  }
 ],
 "metadata": {
  "interpreter": {
   "hash": "20051e8ddc240926019d5dd8da8e714029d70fab266ae478003a87bd5bc6a028"
  },
  "kernelspec": {
   "display_name": "Python 3.7.11 64-bit ('conda_sky': conda)",
   "language": "python",
   "name": "python3"
  },
  "language_info": {
   "codemirror_mode": {
    "name": "ipython",
    "version": 3
   },
   "file_extension": ".py",
   "mimetype": "text/x-python",
   "name": "python",
   "nbconvert_exporter": "python",
   "pygments_lexer": "ipython3",
   "version": "3.12.1"
  },
  "orig_nbformat": 4
 },
 "nbformat": 4,
 "nbformat_minor": 2
}
